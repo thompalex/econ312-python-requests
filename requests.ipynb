{
 "cells": [
  {
   "cell_type": "markdown",
   "metadata": {},
   "source": [
    "# Introduction to Requests: Types, Responses, Use Cases\n",
    "\n",
    "\n",
    "It is very often useful to be able to communicate between computers and services in our code\n",
    "\n",
    "To do this, we use requests!\n",
    "\n",
    "HTTP requests are used by one piece of code to get or send along pieces of information from another service or computer.\n"
   ]
  },
  {
   "cell_type": "markdown",
   "metadata": {},
   "source": [
    "## HTTP\n",
    "\n",
    "Early on in the semester, we covered some of the basics of HTTP.\n",
    "\n",
    "It is a request/response system that allows a client to send requests to a server and get a response using a TCP handshake for verification.\n",
    "\n",
    "One example here is a web browser. Every time that you visit a website, you send a request to the server of that site and recieve an HTML page as a response, which your browser renders"
   ]
  },
  {
   "cell_type": "markdown",
   "metadata": {},
   "source": [
    "## Python Requests Library\n",
    "\n",
    "\n",
    "Today, we'll be covering the python requests library, which can be installed with 'pip install requests' in the command line and then the following import statement in your code:"
   ]
  },
  {
   "cell_type": "code",
   "execution_count": 2,
   "metadata": {},
   "outputs": [],
   "source": [
    "import requests"
   ]
  },
  {
   "cell_type": "markdown",
   "metadata": {},
   "source": [
    "The requests library will allow us to send HTTP requests to other servers or services and yielding a python object that contains a response code, a header, and a body"
   ]
  },
  {
   "cell_type": "markdown",
   "metadata": {},
   "source": [
    "## Request Methods\n",
    "\n",
    "- GET:\n",
    "    - Used to grab data from a website or service\n",
    "    - This is what browsers use to access a website\n",
    "    - You can also pass some key-value pairs for authentication and other arguments (google searches use a get request)\n",
    "    - The following is an example of a get request to google.com (we get a resposne with status code 200, meaning that we successfully connected to the server)\n",
    "    - If you were to print r.text here, you would get a large string of HTML"
   ]
  },
  {
   "cell_type": "code",
   "execution_count": 4,
   "metadata": {},
   "outputs": [
    {
     "data": {
      "text/plain": [
       "<Response [200]>"
      ]
     },
     "execution_count": 4,
     "metadata": {},
     "output_type": "execute_result"
    }
   ],
   "source": [
    "r = requests.get('https://www.google.com')"
   ]
  },
  {
   "cell_type": "markdown",
   "metadata": {},
   "source": [
    "- POST\n",
    "    - Used to send a collection of data to a site or service\n",
    "    - We pass in a dictionary to the function call to send this data with our request\n",
    "    - POST requests are often used by websites to send form data that the user inputs to the server to be processed.\n",
    "    - The following is an example of a POST request to a demo URL passing in a dictionary"
   ]
  },
  {
   "cell_type": "code",
   "execution_count": 14,
   "metadata": {},
   "outputs": [
    {
     "data": {
      "text/plain": [
       "200"
      ]
     },
     "execution_count": 14,
     "metadata": {},
     "output_type": "execute_result"
    }
   ],
   "source": [
    "url = 'https://www.w3schools.com/python/demopage.php'\n",
    "myobj = {'somekey': 'somevalue'}\n",
    "\n",
    "x = requests.post(url, json = myobj)\n",
    "x"
   ]
  },
  {
   "cell_type": "markdown",
   "metadata": {},
   "source": [
    "- Other request methods supported by the Requests module (less common methods):\n",
    "    - DELETE:\n",
    "        - Used to send a request that indicates deletion of something on the server\n",
    "    - PATCH:\n",
    "        - A set of instructions to modify the server\n",
    "    - HEAD:\n",
    "        - Requests just the headers of a response to a get request from the server\n",
    "    - PUT:\n",
    "        - Replace a target resource with payload\n",
    "\n",
    "- Request methods not supported by the requests module\n",
    "    - CONNECT:\n",
    "        - Establish a two-way connection stream between server and client\n",
    "    - OPTIONS:\n",
    "        - Requests the allowed options for connection to a server\n",
    "    - TRACE:\n",
    "        - Traces the forwarding involved in a request"
   ]
  },
  {
   "cell_type": "markdown",
   "metadata": {},
   "source": [
    "## Response Codes\n",
    "\n",
    "\n",
    "- 100 -199\n",
    "    - These status codes provide information about the request. Often, this means that the server is still loading or doing some sort of internal work\n",
    "- 200 - 299\n",
    "    - A 200 status code means that the request was successful (the server exists and the provided inputs are sufficient)\n",
    "    - The other codes in this range mean that the request was successfully sent, but they often indicate other important pieces of information about the response\n",
    "- 300 - 399\n",
    "    - These are various redirection codes. They indicate that the user is being directed away from the server initially requested\n",
    "- 400 - 499\n",
    "    - These are unsuccessful requests, the most common of which are:\n",
    "        - 400: Bad request, meaning the request format is not correct\n",
    "        - 401: Unauthorized, client is not authorized to make this request\n",
    "        - 404: Not Found, the requested resource cannot be found\n",
    "- 500 - 599\n",
    "    - 500 indicates an internal server error\n",
    "    - The rest of these mean that something is going wrong in the server\n",
    "\n",
    "If you are looking for an exhaustive list of the status codes which I have not listed here, you can find it on https://developer.mozilla.org/en-US/docs/Web/HTTP/Status\n",
    "\n",
    "You can see the status code of a request response in python by accessing the status_code property of the response as follows:"
   ]
  },
  {
   "cell_type": "code",
   "execution_count": 15,
   "metadata": {},
   "outputs": [
    {
     "data": {
      "text/plain": [
       "200"
      ]
     },
     "execution_count": 15,
     "metadata": {},
     "output_type": "execute_result"
    }
   ],
   "source": [
    "url = 'https://www.w3schools.com/python/demopage.php'\n",
    "myobj = {'somekey': 'somevalue'}\n",
    "\n",
    "x = requests.post(url, json = myobj)\n",
    "x.status_code"
   ]
  },
  {
   "cell_type": "markdown",
   "metadata": {},
   "source": [
    "## When might we use requests?\n",
    "\n",
    "There are various reasons that we might want to send requests in our python code.\n",
    "\n",
    "Programmatically accessing resources on the internet can be very valuable!"
   ]
  },
  {
   "cell_type": "markdown",
   "metadata": {},
   "source": [
    "#### Webscraping"
   ]
  },
  {
   "cell_type": "markdown",
   "metadata": {},
   "source": [
    "Suppose that there is a website, or list of websites, which has a dataset or datasets that we are interested in downloading\n",
    "\n",
    "We could certainly manually visit each site and copy the values into CSV files, but the requests library would provide us with a much quicker solution which we could run periodically to automatically update our dataset\n",
    "\n",
    "In the following code, we grab the data file from https://dasl.datadescription.com/download/data/3176 and save it to outfile.csv"
   ]
  },
  {
   "cell_type": "code",
   "execution_count": 27,
   "metadata": {},
   "outputs": [],
   "source": [
    "r = requests.get('https://dasl.datadescription.com/download/data/3176')\n",
    "\n",
    "\n",
    "with open('outfile.csv', 'w', encoding=\"utf-8\") as f:\n",
    "    f.write(r.text)"
   ]
  },
  {
   "cell_type": "markdown",
   "metadata": {},
   "source": [
    "In some cases, the data we want might not be available for download from the website, so we can use tools like BeautifulSoup4 to grab the HTML and then parse through the HTML to isolate the data that we are interested in. This is the subject of another lecture, so we will not get into it yet."
   ]
  },
  {
   "cell_type": "markdown",
   "metadata": {},
   "source": [
    "### Requesting data from APIs on the internet\n"
   ]
  },
  {
   "cell_type": "markdown",
   "metadata": {},
   "source": [
    "There are many resources on the internet which are designed to be accessed programmatically. The use cases of these services varies from providing small amounts of data to running complex functions that have been implemented by the service on your inputs.\n",
    "\n",
    "Let's explore a very simple use case. The https://catfact.ninja/fact website will provide the user with a fact about cats on each call. We can use the python requests module to get an example of one as follows:"
   ]
  },
  {
   "cell_type": "code",
   "execution_count": 37,
   "metadata": {},
   "outputs": [
    {
     "name": "stdout",
     "output_type": "stream",
     "text": [
      "{'fact': 'Cats can predict earthquakes. We humans are not 100% sure how they do it. There are several different theories.', 'length': 111}\n"
     ]
    }
   ],
   "source": [
    "r = requests.get('https://catfact.ninja/fact')\n",
    "\n",
    "print(r.text)"
   ]
  },
  {
   "cell_type": "markdown",
   "metadata": {},
   "source": [
    "This clearly looks just like a dictionary, so we can use the response.json() method to cast the text into a dictionary, then access the fact itself."
   ]
  },
  {
   "cell_type": "code",
   "execution_count": 39,
   "metadata": {},
   "outputs": [
    {
     "name": "stdout",
     "output_type": "stream",
     "text": [
      "{'fact': 'Many Egyptians worshipped the goddess Bast, who had a woman’s body and a cat’s head.', 'length': 84}\n",
      "Many Egyptians worshipped the goddess Bast, who had a woman’s body and a cat’s head.\n"
     ]
    }
   ],
   "source": [
    "r = requests.get('https://catfact.ninja/fact')\n",
    "\n",
    "print(r.json())\n",
    "\n",
    "print(r.json()['fact'])"
   ]
  },
  {
   "cell_type": "markdown",
   "metadata": {},
   "source": [
    "As an exercise, use a for loop to print 10 cat facts from the API:"
   ]
  },
  {
   "cell_type": "code",
   "execution_count": null,
   "metadata": {},
   "outputs": [],
   "source": [
    "### Write code here \n",
    "\n",
    "\n"
   ]
  },
  {
   "cell_type": "markdown",
   "metadata": {},
   "source": [
    "### Attacking a website\n",
    "\n",
    "I'm not saying that you should do this, but using some multithreading and an infinite loop with the requests module, you could try running a Denial of Service attack on smaller websites by sending a significant number of concurrent reqeusts to a site to the point that the site is so busy processing these requests that it cannot handle any other user traffic.\n",
    "\n",
    "Most big websites will have protection against these kinds of things that make it very difficult to actually take down their site, but the idea here is that sending requests with python can be very powerful"
   ]
  },
  {
   "cell_type": "markdown",
   "metadata": {},
   "source": [
    "### Exercises!\n"
   ]
  },
  {
   "cell_type": "markdown",
   "metadata": {},
   "source": [
    "1. Use the condesk API at https://api.coindesk.com/v1/bpi/currentprice.json to get the current price of bitcoin!"
   ]
  },
  {
   "cell_type": "code",
   "execution_count": 41,
   "metadata": {},
   "outputs": [],
   "source": [
    "### Code for exercise 1"
   ]
  },
  {
   "cell_type": "markdown",
   "metadata": {},
   "source": [
    "2. Get the HTML from https://www.oberlin.edu/ and store it in a file locally"
   ]
  },
  {
   "cell_type": "code",
   "execution_count": null,
   "metadata": {},
   "outputs": [],
   "source": [
    "### Code for exercise 2"
   ]
  },
  {
   "cell_type": "markdown",
   "metadata": {},
   "source": [
    "3. Use the api at https://dog.ceo/api/breeds/image/random to get the url for an image of a dog, then send a get request to the url and save the image locally"
   ]
  },
  {
   "cell_type": "code",
   "execution_count": null,
   "metadata": {},
   "outputs": [],
   "source": [
    "### Code for exercise 3"
   ]
  }
 ],
 "metadata": {
  "kernelspec": {
   "display_name": "Python 3.9.13 64-bit (microsoft store)",
   "language": "python",
   "name": "python3"
  },
  "language_info": {
   "codemirror_mode": {
    "name": "ipython",
    "version": 3
   },
   "file_extension": ".py",
   "mimetype": "text/x-python",
   "name": "python",
   "nbconvert_exporter": "python",
   "pygments_lexer": "ipython3",
   "version": "3.9.13"
  },
  "orig_nbformat": 4,
  "vscode": {
   "interpreter": {
    "hash": "6a90de8774aa4e0955f9285cb034f3f0072094711645aae7b8ce262d35203058"
   }
  }
 },
 "nbformat": 4,
 "nbformat_minor": 2
}
